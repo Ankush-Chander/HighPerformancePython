{
 "cells": [
  {
   "cell_type": "code",
   "execution_count": 1,
   "id": "3a5e089c-42f7-4189-ac58-bec31389b1ec",
   "metadata": {},
   "outputs": [],
   "source": [
    "import numpy as np"
   ]
  },
  {
   "cell_type": "code",
   "execution_count": 16,
   "id": "c88a0a0f-7cfd-4f9b-afc0-31c07939ba20",
   "metadata": {},
   "outputs": [
    {
     "name": "stdout",
     "output_type": "stream",
     "text": [
      "140448756898480\n",
      "140448048051856\n"
     ]
    }
   ],
   "source": [
    "array1, array2 = np.random.random((2,100,100))\n",
    "print(id(array1))\n",
    "array1  = array1 + array2\n",
    "print(id(array1))"
   ]
  },
  {
   "cell_type": "code",
   "execution_count": 17,
   "id": "cb8443e2-079e-4ce7-9f86-25d547b81fd9",
   "metadata": {},
   "outputs": [
    {
     "name": "stdout",
     "output_type": "stream",
     "text": [
      "3.86 µs ± 113 ns per loop (mean ± std. dev. of 7 runs, 100,000 loops each)\n"
     ]
    }
   ],
   "source": [
    "%%timeit array1, array2 = np.random.random((2,100,100))\n",
    "    array1  = array1 + array2"
   ]
  },
  {
   "cell_type": "code",
   "execution_count": 18,
   "id": "052b45dd-0431-44cf-bf65-069e43477351",
   "metadata": {},
   "outputs": [
    {
     "name": "stdout",
     "output_type": "stream",
     "text": [
      "140448047959472\n",
      "140448047959472\n"
     ]
    }
   ],
   "source": [
    "# no new memory allocation as operation is inplace\n",
    "array1, array2 = np.random.random((2,100,100))\n",
    "print(id(array1))\n",
    "array1 += array2\n",
    "print(id(array1))"
   ]
  },
  {
   "cell_type": "code",
   "execution_count": 11,
   "id": "ab700c4e-6e64-4363-9876-bf1b60ec5e3b",
   "metadata": {},
   "outputs": [
    {
     "name": "stdout",
     "output_type": "stream",
     "text": [
      "2.32 µs ± 72.7 ns per loop (mean ± std. dev. of 7 runs, 100,000 loops each)\n"
     ]
    }
   ],
   "source": [
    "%%timeit array1, array2 = np.random.random((2,100,100))\n",
    "    print(id(array1))\n",
    "    array1 += array2\n",
    "    print(id(array1))"
   ]
  },
  {
   "cell_type": "code",
   "execution_count": 12,
   "id": "29e9ae0b-b6cf-4bd4-ac19-a44591c8f7a6",
   "metadata": {},
   "outputs": [
    {
     "name": "stdout",
     "output_type": "stream",
     "text": [
      "433 ns ± 3.01 ns per loop (mean ± std. dev. of 7 runs, 1,000,000 loops each)\n"
     ]
    }
   ],
   "source": [
    "%%timeit array1, array2 = np.random.random((2,5,5))\n",
    "    array1  = array1 + array2"
   ]
  },
  {
   "cell_type": "code",
   "execution_count": 13,
   "id": "78f96d24-81da-4270-8b82-fd40bb4ad66f",
   "metadata": {},
   "outputs": [
    {
     "name": "stdout",
     "output_type": "stream",
     "text": [
      "366 ns ± 1.05 ns per loop (mean ± std. dev. of 7 runs, 1,000,000 loops each)\n"
     ]
    }
   ],
   "source": [
    "%%timeit array1, array2 = np.random.random((2,5,5))\n",
    "    array1 += array2 "
   ]
  }
 ],
 "metadata": {
  "kernelspec": {
   "display_name": "Python 3 (ipykernel)",
   "language": "python",
   "name": "python3"
  },
  "language_info": {
   "codemirror_mode": {
    "name": "ipython",
    "version": 3
   },
   "file_extension": ".py",
   "mimetype": "text/x-python",
   "name": "python",
   "nbconvert_exporter": "python",
   "pygments_lexer": "ipython3",
   "version": "3.9.5"
  }
 },
 "nbformat": 4,
 "nbformat_minor": 5
}
